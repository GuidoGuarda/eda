{
 "cells": [
  {
   "cell_type": "markdown",
   "metadata": {},
   "source": [
    "# Week Exploratory Data Analysis (EDA)\n"
   ]
  },
  {
   "cell_type": "markdown",
   "metadata": {},
   "source": [
    "# Problemy \n",
    "- A school needs to work with films in its pedagogical planning.\n",
    "- She needs to view the ratings of different films in their different categories.\n",
    "- Films must cross generations.\n",
    "\n",
    "    \n",
    "<!--- Uma escola necessita trabalhar com filmes em seu planejamento pedagógico.\n",
    "- Ela necessita de visualizar as notas de diversos filmes em suas diversas categorias.\n",
    "- Os filmes devem atravessar gerações.-->"
   ]
  },
  {
   "cell_type": "markdown",
   "metadata": {},
   "source": [
    "\n",
    "# Python environment <!--Ambientação Python-->\n"
   ]
  },
  {
   "cell_type": "code",
   "execution_count": 1,
   "metadata": {},
   "outputs": [
    {
     "name": "stdout",
     "output_type": "stream",
     "text": [
      "Hello EDA\n",
      "A semana EDA será Produtiva!!\n"
     ]
    }
   ],
   "source": [
    "\n",
    "# comentário de uma linha #\n",
    "\"\"\" comentário de múltiplas linhas\"\"\"\n",
    "\n",
    "print(\"Hello EDA\")\n",
    "msg = input(\"Como será essa semana EDA?\")\n",
    "print(f\"A semana EDA será {msg}\")"
   ]
  },
  {
   "cell_type": "markdown",
   "metadata": {},
   "source": [
    "# Python features <!-- Características-->\n",
    "\n",
    "- Multiplataforma\n",
    "- DC e IA\n",
    "- Identação\n",
    "- Tipagem Dinâmica\n",
    "- Bibliotecas\n",
    "- Paradigma Funcional(Lambda)\n",
    "- Paradigma Orientação a Objetos (Flask,)\n",
    "- Paradigma Estruturado (if, else,for)\n",
    "- Microservices\n",
    "\n",
    "<!--1. Paradigma Funcional\n",
    "O paradigma funcional é um estilo de programação baseado na utilização de funções como unidades fundamentais de computação. Funções são tratadas como cidadãos de primeira classe e não têm efeitos colaterais (ou efeitos colaterais minimizados). Além disso, a programação funcional frequentemente utiliza conceitos como funções de ordem superior, imutabilidade e expressão.\n",
    "\n",
    "Exemplo com Python (Lambda Functions)\n",
    "No Python, uma função lambda é uma forma de definir funções pequenas e anônimas. Elas são frequentemente usadas para operações simples e podem ser passadas como argumentos para outras funções.\n",
    "\n",
    "python\n",
    "Copiar código\n",
    "# Função lambda para somar dois números\n",
    "soma = lambda x, y: x + y\n",
    "\n",
    "# Usando a função lambda\n",
    "resultado = soma(5, 3)\n",
    "print(resultado)  # Saída: 8\n",
    "\n",
    "# Lambda em uma função map para dobrar valores em uma lista\n",
    "lista = [1, 2, 3, 4]\n",
    "dobrados = list(map(lambda x: x * 2, lista))\n",
    "print(dobrados)  # Saída: [2, 4, 6, 8]\n",
    "Explicação: A função lambda lambda x, y: x + y é uma forma compacta de definir uma função que soma dois números. A função map usa uma lambda para dobrar cada valor em uma lista.\n",
    "\n",
    "2. Paradigma Orientado a Objetos\n",
    "A programação orientada a objetos (POO) é um paradigma que organiza o código em \"objetos\", que são instâncias de \"classes\". Uma classe define a estrutura e o comportamento dos objetos. A POO promove conceitos como encapsulamento, herança e polimorfismo.\n",
    "\n",
    "Exemplo com Flask (Python)\n",
    "Flask é um framework para desenvolvimento de aplicações web em Python que utiliza conceitos orientados a objetos para definir a estrutura e o comportamento da aplicação.\n",
    "\n",
    "python\n",
    "Copiar código\n",
    "from flask import Flask, request, jsonify\n",
    "\n",
    "# Criar uma instância da aplicação Flask\n",
    "app = Flask(__name__)\n",
    "\n",
    "# Definir uma rota para a URL raiz\n",
    "@app.route('/')\n",
    "def home():\n",
    "    return \"Bem-vindo ao Flask!\"\n",
    "\n",
    "# Definir uma rota para adicionar números\n",
    "@app.route('/soma', methods=['POST'])\n",
    "def soma():\n",
    "    dados = request.get_json()\n",
    "    a = dados.get('a')\n",
    "    b = dados.get('b')\n",
    "    resultado = a + b\n",
    "    return jsonify({'resultado': resultado})\n",
    "\n",
    "# Executar a aplicação\n",
    "if __name__ == '__main__':\n",
    "    app.run(debug=True)\n",
    "Explicação: Neste exemplo, Flask é uma classe que fornece a funcionalidade para criar uma aplicação web. Usamos o decorador @app.route para definir diferentes rotas (ou URLs) e suas funcionalidades associadas. Aqui, home e soma são métodos que respondem a requisições HTTP.\n",
    "\n",
    "3. Paradigma Estruturado\n",
    "A programação estruturada é um estilo de programação que utiliza estruturas de controle de fluxo, como condicionais e loops, para criar um fluxo lógico claro e organizado. Ela enfatiza o uso de sub-rotinas e funções para modularizar o código.\n",
    "\n",
    "Exemplo com Python (if, else, for)\n",
    "Aqui está um exemplo de programação estruturada em Python:\n",
    "\n",
    "python\n",
    "Copiar código\n",
    "# Função para determinar se um número é par ou ímpar\n",
    "def par_ou_impar(numero):\n",
    "    if numero % 2 == 0:\n",
    "        return \"Par\"\n",
    "    else:\n",
    "        return \"Ímpar\"\n",
    "\n",
    "# Loop para testar números de 1 a 5\n",
    "for i in range(1, 6):\n",
    "    resultado = par_ou_impar(i)\n",
    "    print(f\"{i} é {resultado}\")\n",
    "\n",
    "# Saída esperada:\n",
    "# 1 é Ímpar\n",
    "# 2 é Par\n",
    "# 3 é Ímpar\n",
    "# 4 é Par\n",
    "# 5 é Ímpar\n",
    "Explicação: Neste exemplo, a função par_ou_impar utiliza a estrutura condicional if...else para determinar se um número é par ou ímpar. O loop for itera sobre uma sequência de números e aplica a função a cada número, exibindo o resultado.\n",
    "\n",
    "Resumo\n",
    "Paradigma Funcional: Foca em funções e expressões, minimizando efeitos colaterais. Exemplo com funções lambda em Python.\n",
    "Paradigma Orientado a Objetos: Organiza o código em classes e objetos que encapsulam dados e comportamentos. Exemplo com o framework Flask para aplicações web.\n",
    "Paradigma Estruturado: Usa estruturas de controle de fluxo, como condicionais e loops, para criar um fluxo lógico claro. Exemplo com uma função que determina se um número é par ou ímpar e um loop para aplicar essa função a vários números.\n",
    "Cada paradigma tem suas próprias vantagens e é adequado para diferentes tipos de problemas e estilos de programação.\n",
    "-->"
   ]
  },
  {
   "cell_type": "markdown",
   "metadata": {},
   "source": [
    "# Object Oriented Example <!--Exemplo Orientado a Objetos-->"
   ]
  },
  {
   "cell_type": "code",
   "execution_count": 2,
   "metadata": {},
   "outputs": [],
   "source": [
    "class Pessoa():\n",
    "    def __init__(self,nome,idade):\n",
    "        self.nome = nome\n",
    "        self.idade = idade\n",
    "    def pega_nome(self):\n",
    "        return self.nome\n",
    "    def dobro_idade(self):\n",
    "        return self.idade * 2\n",
    "    "
   ]
  },
  {
   "cell_type": "code",
   "execution_count": 3,
   "metadata": {},
   "outputs": [
    {
     "data": {
      "text/plain": [
       "'João'"
      ]
     },
     "execution_count": 3,
     "metadata": {},
     "output_type": "execute_result"
    }
   ],
   "source": [
    "#instalar Numpy e pandas\n",
    "\n",
    "pessoa = Pessoa('João',15)\n",
    "pessoa.pega_nome()\n"
   ]
  },
  {
   "cell_type": "markdown",
   "metadata": {},
   "source": [
    "# Functional Example (Lambda) <!--Exemplo Funcional (Lambda)-->"
   ]
  },
  {
   "cell_type": "code",
   "execution_count": 4,
   "metadata": {},
   "outputs": [],
   "source": [
    "# definindo um lambda\n",
    "dobro = lambda x:x*2\n"
   ]
  },
  {
   "cell_type": "markdown",
   "metadata": {},
   "source": [
    "# Criar uma matriz 4x4"
   ]
  },
  {
   "cell_type": "code",
   "execution_count": 5,
   "metadata": {},
   "outputs": [
    {
     "name": "stdout",
     "output_type": "stream",
     "text": [
      "Data e hora atuais: 20/08/2024 15:36:56\n"
     ]
    }
   ],
   "source": [
    "from datetime import datetime\n",
    "import numpy as np\n",
    "# Obtém a data e hora atuais\n",
    "agora = datetime.now()\n",
    "\n",
    "# Formata a data e a hora\n",
    "data_hora_formatada = agora.strftime(\"%d/%m/%Y %H:%M:%S\")\n",
    "\n",
    "print(\"Data e hora atuais:\", data_hora_formatada)\n",
    "\n",
    "matriz_4x4 = np.array([[1, 2, 3, 4],\n",
    "                       [2, 4, 6, 8],\n",
    "                       [3, 8, 12, 16],\n",
    "                       [4, 16, 24, 32]])"
   ]
  },
  {
   "cell_type": "code",
   "execution_count": 6,
   "metadata": {},
   "outputs": [
    {
     "data": {
      "text/plain": [
       "array([[ 1,  2,  3,  4],\n",
       "       [ 2,  4,  6,  8],\n",
       "       [ 3,  8, 12, 16],\n",
       "       [ 4, 16, 24, 32]])"
      ]
     },
     "execution_count": 6,
     "metadata": {},
     "output_type": "execute_result"
    }
   ],
   "source": [
    "matriz_4x4"
   ]
  },
  {
   "cell_type": "code",
   "execution_count": 7,
   "metadata": {},
   "outputs": [],
   "source": [
    "import pandas as pd\n"
   ]
  },
  {
   "cell_type": "code",
   "execution_count": 8,
   "metadata": {},
   "outputs": [],
   "source": [
    "df = pd.DataFrame(matriz_4x4)\n"
   ]
  },
  {
   "cell_type": "code",
   "execution_count": 9,
   "metadata": {},
   "outputs": [
    {
     "data": {
      "text/html": [
       "<div>\n",
       "<style scoped>\n",
       "    .dataframe tbody tr th:only-of-type {\n",
       "        vertical-align: middle;\n",
       "    }\n",
       "\n",
       "    .dataframe tbody tr th {\n",
       "        vertical-align: top;\n",
       "    }\n",
       "\n",
       "    .dataframe thead th {\n",
       "        text-align: right;\n",
       "    }\n",
       "</style>\n",
       "<table border=\"1\" class=\"dataframe\">\n",
       "  <thead>\n",
       "    <tr style=\"text-align: right;\">\n",
       "      <th></th>\n",
       "      <th>0</th>\n",
       "      <th>1</th>\n",
       "      <th>2</th>\n",
       "      <th>3</th>\n",
       "    </tr>\n",
       "  </thead>\n",
       "  <tbody>\n",
       "    <tr>\n",
       "      <th>0</th>\n",
       "      <td>1</td>\n",
       "      <td>2</td>\n",
       "      <td>3</td>\n",
       "      <td>4</td>\n",
       "    </tr>\n",
       "    <tr>\n",
       "      <th>1</th>\n",
       "      <td>2</td>\n",
       "      <td>4</td>\n",
       "      <td>6</td>\n",
       "      <td>8</td>\n",
       "    </tr>\n",
       "    <tr>\n",
       "      <th>2</th>\n",
       "      <td>3</td>\n",
       "      <td>8</td>\n",
       "      <td>12</td>\n",
       "      <td>16</td>\n",
       "    </tr>\n",
       "    <tr>\n",
       "      <th>3</th>\n",
       "      <td>4</td>\n",
       "      <td>16</td>\n",
       "      <td>24</td>\n",
       "      <td>32</td>\n",
       "    </tr>\n",
       "  </tbody>\n",
       "</table>\n",
       "</div>"
      ],
      "text/plain": [
       "   0   1   2   3\n",
       "0  1   2   3   4\n",
       "1  2   4   6   8\n",
       "2  3   8  12  16\n",
       "3  4  16  24  32"
      ]
     },
     "execution_count": 9,
     "metadata": {},
     "output_type": "execute_result"
    }
   ],
   "source": [
    "df.head()\n"
   ]
  },
  {
   "cell_type": "code",
   "execution_count": 10,
   "metadata": {},
   "outputs": [],
   "source": [
    "df_dobrado = df.apply(dobro)\n"
   ]
  },
  {
   "cell_type": "code",
   "execution_count": 11,
   "metadata": {},
   "outputs": [
    {
     "data": {
      "text/html": [
       "<div>\n",
       "<style scoped>\n",
       "    .dataframe tbody tr th:only-of-type {\n",
       "        vertical-align: middle;\n",
       "    }\n",
       "\n",
       "    .dataframe tbody tr th {\n",
       "        vertical-align: top;\n",
       "    }\n",
       "\n",
       "    .dataframe thead th {\n",
       "        text-align: right;\n",
       "    }\n",
       "</style>\n",
       "<table border=\"1\" class=\"dataframe\">\n",
       "  <thead>\n",
       "    <tr style=\"text-align: right;\">\n",
       "      <th></th>\n",
       "      <th>0</th>\n",
       "      <th>1</th>\n",
       "      <th>2</th>\n",
       "      <th>3</th>\n",
       "    </tr>\n",
       "  </thead>\n",
       "  <tbody>\n",
       "    <tr>\n",
       "      <th>0</th>\n",
       "      <td>2</td>\n",
       "      <td>4</td>\n",
       "      <td>6</td>\n",
       "      <td>8</td>\n",
       "    </tr>\n",
       "    <tr>\n",
       "      <th>1</th>\n",
       "      <td>4</td>\n",
       "      <td>8</td>\n",
       "      <td>12</td>\n",
       "      <td>16</td>\n",
       "    </tr>\n",
       "    <tr>\n",
       "      <th>2</th>\n",
       "      <td>6</td>\n",
       "      <td>16</td>\n",
       "      <td>24</td>\n",
       "      <td>32</td>\n",
       "    </tr>\n",
       "    <tr>\n",
       "      <th>3</th>\n",
       "      <td>8</td>\n",
       "      <td>32</td>\n",
       "      <td>48</td>\n",
       "      <td>64</td>\n",
       "    </tr>\n",
       "  </tbody>\n",
       "</table>\n",
       "</div>"
      ],
      "text/plain": [
       "   0   1   2   3\n",
       "0  2   4   6   8\n",
       "1  4   8  12  16\n",
       "2  6  16  24  32\n",
       "3  8  32  48  64"
      ]
     },
     "execution_count": 11,
     "metadata": {},
     "output_type": "execute_result"
    }
   ],
   "source": [
    "df_dobrado.head()\n"
   ]
  },
  {
   "cell_type": "markdown",
   "metadata": {},
   "source": [
    "## Starting our first EDA <!-- Iniciando nosso primeiro EDA-->"
   ]
  },
  {
   "cell_type": "markdown",
   "metadata": {},
   "source": [
    "###  Solution – Best Films for School Education <!--Solução - Melhores filmes para educação escolar-->"
   ]
  },
  {
   "cell_type": "markdown",
   "metadata": {},
   "source": [
    "#### Import dataset <!--Importando DataSET-->\n"
   ]
  },
  {
   "cell_type": "code",
   "execution_count": 12,
   "metadata": {},
   "outputs": [],
   "source": [
    "df_filmes = pd.read_csv('datasets/ratings.csv')\n"
   ]
  },
  {
   "cell_type": "code",
   "execution_count": 13,
   "metadata": {},
   "outputs": [
    {
     "data": {
      "text/html": [
       "<div>\n",
       "<style scoped>\n",
       "    .dataframe tbody tr th:only-of-type {\n",
       "        vertical-align: middle;\n",
       "    }\n",
       "\n",
       "    .dataframe tbody tr th {\n",
       "        vertical-align: top;\n",
       "    }\n",
       "\n",
       "    .dataframe thead th {\n",
       "        text-align: right;\n",
       "    }\n",
       "</style>\n",
       "<table border=\"1\" class=\"dataframe\">\n",
       "  <thead>\n",
       "    <tr style=\"text-align: right;\">\n",
       "      <th></th>\n",
       "      <th>userId</th>\n",
       "      <th>movieId</th>\n",
       "      <th>rating</th>\n",
       "      <th>timestamp</th>\n",
       "    </tr>\n",
       "  </thead>\n",
       "  <tbody>\n",
       "    <tr>\n",
       "      <th>0</th>\n",
       "      <td>1</td>\n",
       "      <td>1</td>\n",
       "      <td>4.0</td>\n",
       "      <td>964982703</td>\n",
       "    </tr>\n",
       "    <tr>\n",
       "      <th>1</th>\n",
       "      <td>1</td>\n",
       "      <td>3</td>\n",
       "      <td>4.0</td>\n",
       "      <td>964981247</td>\n",
       "    </tr>\n",
       "    <tr>\n",
       "      <th>2</th>\n",
       "      <td>1</td>\n",
       "      <td>6</td>\n",
       "      <td>4.0</td>\n",
       "      <td>964982224</td>\n",
       "    </tr>\n",
       "    <tr>\n",
       "      <th>3</th>\n",
       "      <td>1</td>\n",
       "      <td>47</td>\n",
       "      <td>5.0</td>\n",
       "      <td>964983815</td>\n",
       "    </tr>\n",
       "    <tr>\n",
       "      <th>4</th>\n",
       "      <td>1</td>\n",
       "      <td>50</td>\n",
       "      <td>5.0</td>\n",
       "      <td>964982931</td>\n",
       "    </tr>\n",
       "  </tbody>\n",
       "</table>\n",
       "</div>"
      ],
      "text/plain": [
       "   userId  movieId  rating  timestamp\n",
       "0       1        1     4.0  964982703\n",
       "1       1        3     4.0  964981247\n",
       "2       1        6     4.0  964982224\n",
       "3       1       47     5.0  964983815\n",
       "4       1       50     5.0  964982931"
      ]
     },
     "execution_count": 13,
     "metadata": {},
     "output_type": "execute_result"
    }
   ],
   "source": [
    "df_filmes.head()"
   ]
  },
  {
   "cell_type": "markdown",
   "metadata": {},
   "source": [
    "### Rename columns <!--Renomear colunas-->"
   ]
  },
  {
   "cell_type": "code",
   "execution_count": 14,
   "metadata": {},
   "outputs": [],
   "source": [
    "df_filmes.columns= ['usuário_id', 'filme_id', 'avaliacao','quando']\n",
    "\n",
    "\n",
    "\n",
    "\n"
   ]
  },
  {
   "cell_type": "code",
   "execution_count": 15,
   "metadata": {},
   "outputs": [
    {
     "data": {
      "text/plain": [
       "Index(['usuário_id', 'filme_id', 'avaliacao', 'quando'], dtype='object')"
      ]
     },
     "execution_count": 15,
     "metadata": {},
     "output_type": "execute_result"
    }
   ],
   "source": [
    "df_filmes.columns"
   ]
  },
  {
   "cell_type": "markdown",
   "metadata": {},
   "source": [
    "### Showing the top five <!--Mostrando os cinco primeiros-->"
   ]
  },
  {
   "cell_type": "code",
   "execution_count": 16,
   "metadata": {},
   "outputs": [
    {
     "data": {
      "text/html": [
       "<div>\n",
       "<style scoped>\n",
       "    .dataframe tbody tr th:only-of-type {\n",
       "        vertical-align: middle;\n",
       "    }\n",
       "\n",
       "    .dataframe tbody tr th {\n",
       "        vertical-align: top;\n",
       "    }\n",
       "\n",
       "    .dataframe thead th {\n",
       "        text-align: right;\n",
       "    }\n",
       "</style>\n",
       "<table border=\"1\" class=\"dataframe\">\n",
       "  <thead>\n",
       "    <tr style=\"text-align: right;\">\n",
       "      <th></th>\n",
       "      <th>usuário_id</th>\n",
       "      <th>filme_id</th>\n",
       "      <th>avaliacao</th>\n",
       "      <th>quando</th>\n",
       "    </tr>\n",
       "  </thead>\n",
       "  <tbody>\n",
       "    <tr>\n",
       "      <th>0</th>\n",
       "      <td>1</td>\n",
       "      <td>1</td>\n",
       "      <td>4.0</td>\n",
       "      <td>964982703</td>\n",
       "    </tr>\n",
       "    <tr>\n",
       "      <th>1</th>\n",
       "      <td>1</td>\n",
       "      <td>3</td>\n",
       "      <td>4.0</td>\n",
       "      <td>964981247</td>\n",
       "    </tr>\n",
       "    <tr>\n",
       "      <th>2</th>\n",
       "      <td>1</td>\n",
       "      <td>6</td>\n",
       "      <td>4.0</td>\n",
       "      <td>964982224</td>\n",
       "    </tr>\n",
       "    <tr>\n",
       "      <th>3</th>\n",
       "      <td>1</td>\n",
       "      <td>47</td>\n",
       "      <td>5.0</td>\n",
       "      <td>964983815</td>\n",
       "    </tr>\n",
       "    <tr>\n",
       "      <th>4</th>\n",
       "      <td>1</td>\n",
       "      <td>50</td>\n",
       "      <td>5.0</td>\n",
       "      <td>964982931</td>\n",
       "    </tr>\n",
       "  </tbody>\n",
       "</table>\n",
       "</div>"
      ],
      "text/plain": [
       "   usuário_id  filme_id  avaliacao     quando\n",
       "0           1         1        4.0  964982703\n",
       "1           1         3        4.0  964981247\n",
       "2           1         6        4.0  964982224\n",
       "3           1        47        5.0  964983815\n",
       "4           1        50        5.0  964982931"
      ]
     },
     "execution_count": 16,
     "metadata": {},
     "output_type": "execute_result"
    }
   ],
   "source": [
    "df_filmes.head()"
   ]
  },
  {
   "cell_type": "markdown",
   "metadata": {},
   "source": [
    "### Showing the columns <!--Mostrar (Colunas)-->"
   ]
  },
  {
   "cell_type": "code",
   "execution_count": 17,
   "metadata": {},
   "outputs": [
    {
     "data": {
      "text/plain": [
       "0         4.0\n",
       "1         4.0\n",
       "2         4.0\n",
       "3         5.0\n",
       "4         5.0\n",
       "         ... \n",
       "100831    4.0\n",
       "100832    5.0\n",
       "100833    5.0\n",
       "100834    5.0\n",
       "100835    3.0\n",
       "Name: avaliacao, Length: 100836, dtype: float64"
      ]
     },
     "execution_count": 17,
     "metadata": {},
     "output_type": "execute_result"
    }
   ],
   "source": [
    "df_filmes.avaliacao"
   ]
  },
  {
   "cell_type": "markdown",
   "metadata": {},
   "source": [
    "## Showing the last five <!--Mostrando os cinco últimos-->"
   ]
  },
  {
   "cell_type": "code",
   "execution_count": 18,
   "metadata": {},
   "outputs": [
    {
     "data": {
      "text/html": [
       "<div>\n",
       "<style scoped>\n",
       "    .dataframe tbody tr th:only-of-type {\n",
       "        vertical-align: middle;\n",
       "    }\n",
       "\n",
       "    .dataframe tbody tr th {\n",
       "        vertical-align: top;\n",
       "    }\n",
       "\n",
       "    .dataframe thead th {\n",
       "        text-align: right;\n",
       "    }\n",
       "</style>\n",
       "<table border=\"1\" class=\"dataframe\">\n",
       "  <thead>\n",
       "    <tr style=\"text-align: right;\">\n",
       "      <th></th>\n",
       "      <th>usuário_id</th>\n",
       "      <th>filme_id</th>\n",
       "      <th>avaliacao</th>\n",
       "      <th>quando</th>\n",
       "    </tr>\n",
       "  </thead>\n",
       "  <tbody>\n",
       "    <tr>\n",
       "      <th>100831</th>\n",
       "      <td>610</td>\n",
       "      <td>166534</td>\n",
       "      <td>4.0</td>\n",
       "      <td>1493848402</td>\n",
       "    </tr>\n",
       "    <tr>\n",
       "      <th>100832</th>\n",
       "      <td>610</td>\n",
       "      <td>168248</td>\n",
       "      <td>5.0</td>\n",
       "      <td>1493850091</td>\n",
       "    </tr>\n",
       "    <tr>\n",
       "      <th>100833</th>\n",
       "      <td>610</td>\n",
       "      <td>168250</td>\n",
       "      <td>5.0</td>\n",
       "      <td>1494273047</td>\n",
       "    </tr>\n",
       "    <tr>\n",
       "      <th>100834</th>\n",
       "      <td>610</td>\n",
       "      <td>168252</td>\n",
       "      <td>5.0</td>\n",
       "      <td>1493846352</td>\n",
       "    </tr>\n",
       "    <tr>\n",
       "      <th>100835</th>\n",
       "      <td>610</td>\n",
       "      <td>170875</td>\n",
       "      <td>3.0</td>\n",
       "      <td>1493846415</td>\n",
       "    </tr>\n",
       "  </tbody>\n",
       "</table>\n",
       "</div>"
      ],
      "text/plain": [
       "        usuário_id  filme_id  avaliacao      quando\n",
       "100831         610    166534        4.0  1493848402\n",
       "100832         610    168248        5.0  1493850091\n",
       "100833         610    168250        5.0  1494273047\n",
       "100834         610    168252        5.0  1493846352\n",
       "100835         610    170875        3.0  1493846415"
      ]
     },
     "execution_count": 18,
     "metadata": {},
     "output_type": "execute_result"
    }
   ],
   "source": [
    "df_filmes.tail()"
   ]
  },
  {
   "cell_type": "markdown",
   "metadata": {},
   "source": [
    "## Our first EDA (analyze the number of films by ratings) <!--Nossa primeira EDA ( analisar a quantidade de filmes por avaliações)-->"
   ]
  },
  {
   "cell_type": "code",
   "execution_count": 19,
   "metadata": {},
   "outputs": [
    {
     "data": {
      "text/plain": [
       "<bound method DataFrame.value_counts of         usuário_id  filme_id  avaliacao      quando\n",
       "0                1         1        4.0   964982703\n",
       "1                1         3        4.0   964981247\n",
       "2                1         6        4.0   964982224\n",
       "3                1        47        5.0   964983815\n",
       "4                1        50        5.0   964982931\n",
       "...            ...       ...        ...         ...\n",
       "100831         610    166534        4.0  1493848402\n",
       "100832         610    168248        5.0  1493850091\n",
       "100833         610    168250        5.0  1494273047\n",
       "100834         610    168252        5.0  1493846352\n",
       "100835         610    170875        3.0  1493846415\n",
       "\n",
       "[100836 rows x 4 columns]>"
      ]
     },
     "execution_count": 19,
     "metadata": {},
     "output_type": "execute_result"
    }
   ],
   "source": [
    "df_filmes.value_counts"
   ]
  },
  {
   "cell_type": "code",
   "execution_count": 20,
   "metadata": {},
   "outputs": [
    {
     "data": {
      "text/plain": [
       "avaliacao\n",
       "4.0    26818\n",
       "3.0    20047\n",
       "5.0    13211\n",
       "3.5    13136\n",
       "4.5     8551\n",
       "2.0     7551\n",
       "2.5     5550\n",
       "1.0     2811\n",
       "1.5     1791\n",
       "0.5     1370\n",
       "Name: count, dtype: int64"
      ]
     },
     "execution_count": 20,
     "metadata": {},
     "output_type": "execute_result"
    }
   ],
   "source": [
    "df_filmes.avaliacao.value_counts()"
   ]
  },
  {
   "cell_type": "markdown",
   "metadata": {},
   "source": [
    "### The average of all grades <!--A média de todas as notas-->"
   ]
  },
  {
   "cell_type": "code",
   "execution_count": 21,
   "metadata": {},
   "outputs": [
    {
     "data": {
      "text/plain": [
       "np.float64(3.501556983616962)"
      ]
     },
     "execution_count": 21,
     "metadata": {},
     "output_type": "execute_result"
    }
   ],
   "source": [
    "df_filmes.avaliacao.mean()"
   ]
  },
  {
   "cell_type": "markdown",
   "metadata": {},
   "source": [
    "### Show unique values <!--Mostrar valores únicos-->"
   ]
  },
  {
   "cell_type": "code",
   "execution_count": 22,
   "metadata": {},
   "outputs": [
    {
     "data": {
      "text/plain": [
       "array([4. , 5. , 3. , 2. , 1. , 4.5, 3.5, 2.5, 0.5, 1.5])"
      ]
     },
     "execution_count": 22,
     "metadata": {},
     "output_type": "execute_result"
    }
   ],
   "source": [
    "df_filmes.avaliacao.unique()"
   ]
  },
  {
   "cell_type": "markdown",
   "metadata": {},
   "source": [
    "### Telling Stories with Histograms <!--Contando histórias com Histogramas-->"
   ]
  },
  {
   "cell_type": "markdown",
   "metadata": {},
   "source": [
    "#### Tell the story of the number of films by ratings <!--Contar a história da quantidade de filmes por avaliações-->"
   ]
  },
  {
   "cell_type": "code",
   "execution_count": 23,
   "metadata": {},
   "outputs": [
    {
     "data": {
      "text/plain": [
       "<Axes: ylabel='Frequency'>"
      ]
     },
     "execution_count": 23,
     "metadata": {},
     "output_type": "execute_result"
    },
    {
     "data": {
      "image/png": "[encoded data removed]",
      "text/plain": [
       "<Figure size 640x480 with 1 Axes>"
      ]
     },
     "metadata": {},
     "output_type": "display_data"
    }
   ],
   "source": [
    "df_filmes.avaliacao.plot(kind='hist')"
   ]
  },
  {
   "cell_type": "markdown",
   "metadata": {},
   "source": [
    "## Graphics\n",
    "- Descriptive statistics"
   ]
  },
  {
   "cell_type": "code",
   "execution_count": 24,
   "metadata": {},
   "outputs": [
    {
     "data": {
      "text/html": [
       "<div>\n",
       "<style scoped>\n",
       "    .dataframe tbody tr th:only-of-type {\n",
       "        vertical-align: middle;\n",
       "    }\n",
       "\n",
       "    .dataframe tbody tr th {\n",
       "        vertical-align: top;\n",
       "    }\n",
       "\n",
       "    .dataframe thead th {\n",
       "        text-align: right;\n",
       "    }\n",
       "</style>\n",
       "<table border=\"1\" class=\"dataframe\">\n",
       "  <thead>\n",
       "    <tr style=\"text-align: right;\">\n",
       "      <th></th>\n",
       "      <th>usuário_id</th>\n",
       "      <th>filme_id</th>\n",
       "      <th>avaliacao</th>\n",
       "      <th>quando</th>\n",
       "    </tr>\n",
       "  </thead>\n",
       "  <tbody>\n",
       "    <tr>\n",
       "      <th>0</th>\n",
       "      <td>1</td>\n",
       "      <td>1</td>\n",
       "      <td>4.0</td>\n",
       "      <td>964982703</td>\n",
       "    </tr>\n",
       "    <tr>\n",
       "      <th>1</th>\n",
       "      <td>1</td>\n",
       "      <td>3</td>\n",
       "      <td>4.0</td>\n",
       "      <td>964981247</td>\n",
       "    </tr>\n",
       "    <tr>\n",
       "      <th>2</th>\n",
       "      <td>1</td>\n",
       "      <td>6</td>\n",
       "      <td>4.0</td>\n",
       "      <td>964982224</td>\n",
       "    </tr>\n",
       "    <tr>\n",
       "      <th>3</th>\n",
       "      <td>1</td>\n",
       "      <td>47</td>\n",
       "      <td>5.0</td>\n",
       "      <td>964983815</td>\n",
       "    </tr>\n",
       "    <tr>\n",
       "      <th>4</th>\n",
       "      <td>1</td>\n",
       "      <td>50</td>\n",
       "      <td>5.0</td>\n",
       "      <td>964982931</td>\n",
       "    </tr>\n",
       "    <tr>\n",
       "      <th>...</th>\n",
       "      <td>...</td>\n",
       "      <td>...</td>\n",
       "      <td>...</td>\n",
       "      <td>...</td>\n",
       "    </tr>\n",
       "    <tr>\n",
       "      <th>100831</th>\n",
       "      <td>610</td>\n",
       "      <td>166534</td>\n",
       "      <td>4.0</td>\n",
       "      <td>1493848402</td>\n",
       "    </tr>\n",
       "    <tr>\n",
       "      <th>100832</th>\n",
       "      <td>610</td>\n",
       "      <td>168248</td>\n",
       "      <td>5.0</td>\n",
       "      <td>1493850091</td>\n",
       "    </tr>\n",
       "    <tr>\n",
       "      <th>100833</th>\n",
       "      <td>610</td>\n",
       "      <td>168250</td>\n",
       "      <td>5.0</td>\n",
       "      <td>1494273047</td>\n",
       "    </tr>\n",
       "    <tr>\n",
       "      <th>100834</th>\n",
       "      <td>610</td>\n",
       "      <td>168252</td>\n",
       "      <td>5.0</td>\n",
       "      <td>1493846352</td>\n",
       "    </tr>\n",
       "    <tr>\n",
       "      <th>100835</th>\n",
       "      <td>610</td>\n",
       "      <td>170875</td>\n",
       "      <td>3.0</td>\n",
       "      <td>1493846415</td>\n",
       "    </tr>\n",
       "  </tbody>\n",
       "</table>\n",
       "<p>100836 rows × 4 columns</p>\n",
       "</div>"
      ],
      "text/plain": [
       "        usuário_id  filme_id  avaliacao      quando\n",
       "0                1         1        4.0   964982703\n",
       "1                1         3        4.0   964981247\n",
       "2                1         6        4.0   964982224\n",
       "3                1        47        5.0   964983815\n",
       "4                1        50        5.0   964982931\n",
       "...            ...       ...        ...         ...\n",
       "100831         610    166534        4.0  1493848402\n",
       "100832         610    168248        5.0  1493850091\n",
       "100833         610    168250        5.0  1494273047\n",
       "100834         610    168252        5.0  1493846352\n",
       "100835         610    170875        3.0  1493846415\n",
       "\n",
       "[100836 rows x 4 columns]"
      ]
     },
     "execution_count": 24,
     "metadata": {},
     "output_type": "execute_result"
    }
   ],
   "source": [
    "df_filmes"
   ]
  },
  {
   "cell_type": "markdown",
   "metadata": {},
   "source": [
    "## Calculating the average <!--Calculando a média-->"
   ]
  },
  {
   "cell_type": "code",
   "execution_count": 26,
   "metadata": {},
   "outputs": [
    {
     "name": "stdout",
     "output_type": "stream",
     "text": [
      " a média de avaliações é: 3.501556983616962\n"
     ]
    }
   ],
   "source": [
    "print(f\" a média de avaliações é: {df_filmes.avaliacao.mean()}\")"
   ]
  },
  {
   "cell_type": "markdown",
   "metadata": {},
   "source": [
    "## Calculating the median <!--calculando a mediana-->"
   ]
  },
  {
   "cell_type": "code",
   "execution_count": 29,
   "metadata": {},
   "outputs": [
    {
     "name": "stdout",
     "output_type": "stream",
     "text": [
      " a mediana de avaliações é: 3.5\n"
     ]
    }
   ],
   "source": [
    "print(f\" a mediana de avaliações é: {df_filmes.avaliacao.median()}\")"
   ]
  },
  {
   "cell_type": "markdown",
   "metadata": {},
   "source": [
    "## Calculating the sum <!--calculando a soma-->"
   ]
  },
  {
   "cell_type": "code",
   "execution_count": 30,
   "metadata": {},
   "outputs": [
    {
     "name": "stdout",
     "output_type": "stream",
     "text": [
      " a soma de avaliações é: 353083.0\n"
     ]
    }
   ],
   "source": [
    "print(f\" a soma de avaliações é: {df_filmes.avaliacao.sum()}\")"
   ]
  },
  {
   "cell_type": "markdown",
   "metadata": {},
   "source": [
    "## Describe"
   ]
  },
  {
   "cell_type": "code",
   "execution_count": 31,
   "metadata": {},
   "outputs": [
    {
     "data": {
      "text/plain": [
       "<bound method NDFrame.describe of 0         4.0\n",
       "1         4.0\n",
       "2         4.0\n",
       "3         5.0\n",
       "4         5.0\n",
       "         ... \n",
       "100831    4.0\n",
       "100832    5.0\n",
       "100833    5.0\n",
       "100834    5.0\n",
       "100835    3.0\n",
       "Name: avaliacao, Length: 100836, dtype: float64>"
      ]
     },
     "execution_count": 31,
     "metadata": {},
     "output_type": "execute_result"
    }
   ],
   "source": [
    "df_filmes.avaliacao.describe"
   ]
  },
  {
   "cell_type": "code",
   "execution_count": 33,
   "metadata": {},
   "outputs": [
    {
     "data": {
      "text/plain": [
       "0    4.0\n",
       "1    4.0\n",
       "2    4.0\n",
       "3    5.0\n",
       "4    5.0\n",
       "Name: avaliacao, dtype: float64"
      ]
     },
     "execution_count": 33,
     "metadata": {},
     "output_type": "execute_result"
    }
   ],
   "source": [
    "import seaborn as sns\n",
    "# criando variável\n",
    "notas = df_filmes.avaliacao\n",
    "# mostrando o cabeçalho\n",
    "notas.head()"
   ]
  },
  {
   "cell_type": "markdown",
   "metadata": {},
   "source": [
    "## Creating graph for median (Boxplot)<!--Criando grafico para mediana (Boxplot)-->"
   ]
  },
  {
   "cell_type": "code",
   "execution_count": 34,
   "metadata": {},
   "outputs": [
    {
     "data": {
      "text/plain": [
       "<Axes: ylabel='avaliacao'>"
      ]
     },
     "execution_count": 34,
     "metadata": {},
     "output_type": "execute_result"
    },
    {
     "data": {
      "image/png": "[encoded data removed]",
      "text/plain": [
       "<Figure size 640x480 with 1 Axes>"
      ]
     },
     "metadata": {},
     "output_type": "display_data"
    }
   ],
   "source": [
    "sns.boxplot(notas)"
   ]
  },
  {
   "cell_type": "markdown",
   "metadata": {},
   "source": [
    "## Adjusting on the X axis <!--Ajustando no eixo X-->"
   ]
  },
  {
   "cell_type": "code",
   "execution_count": 35,
   "metadata": {},
   "outputs": [
    {
     "data": {
      "text/plain": [
       "<Axes: xlabel='avaliacao'>"
      ]
     },
     "execution_count": 35,
     "metadata": {},
     "output_type": "execute_result"
    },
    {
     "data": {
      "image/png": "[encoded data removed]",
      "text/plain": [
       "<Figure size 640x480 with 1 Axes>"
      ]
     },
     "metadata": {},
     "output_type": "display_data"
    }
   ],
   "source": [
    "sns.boxplot(x=notas)"
   ]
  },
  {
   "cell_type": "markdown",
   "metadata": {},
   "source": [
    "## Quartis and Median"
   ]
  },
  {
   "cell_type": "code",
   "execution_count": 36,
   "metadata": {},
   "outputs": [
    {
     "data": {
      "text/plain": [
       "<Axes: xlabel='avaliacao'>"
      ]
     },
     "execution_count": 36,
     "metadata": {},
     "output_type": "execute_result"
    },
    {
     "data": {
      "image/png": "[encoded data removed]",
      "text/plain": [
       "<Figure size 640x480 with 1 Axes>"
      ]
     },
     "metadata": {},
     "output_type": "display_data"
    }
   ],
   "source": [
    "sns.boxenplot(x=notas)"
   ]
  },
  {
   "cell_type": "markdown",
   "metadata": {},
   "source": [
    "## Download DataFrame"
   ]
  },
  {
   "cell_type": "code",
   "execution_count": 37,
   "metadata": {},
   "outputs": [],
   "source": [
    "df_filmes_todos = pd.read_csv('datasets/movies.csv')"
   ]
  },
  {
   "cell_type": "markdown",
   "metadata": {},
   "source": [
    "### Showing the top five <!--Mostrando os cinco primeiros-->"
   ]
  },
  {
   "cell_type": "code",
   "execution_count": 38,
   "metadata": {},
   "outputs": [
    {
     "data": {
      "text/html": [
       "<div>\n",
       "<style scoped>\n",
       "    .dataframe tbody tr th:only-of-type {\n",
       "        vertical-align: middle;\n",
       "    }\n",
       "\n",
       "    .dataframe tbody tr th {\n",
       "        vertical-align: top;\n",
       "    }\n",
       "\n",
       "    .dataframe thead th {\n",
       "        text-align: right;\n",
       "    }\n",
       "</style>\n",
       "<table border=\"1\" class=\"dataframe\">\n",
       "  <thead>\n",
       "    <tr style=\"text-align: right;\">\n",
       "      <th></th>\n",
       "      <th>movieId</th>\n",
       "      <th>title</th>\n",
       "      <th>genres</th>\n",
       "    </tr>\n",
       "  </thead>\n",
       "  <tbody>\n",
       "    <tr>\n",
       "      <th>0</th>\n",
       "      <td>1</td>\n",
       "      <td>Toy Story (1995)</td>\n",
       "      <td>Adventure|Animation|Children|Comedy|Fantasy</td>\n",
       "    </tr>\n",
       "    <tr>\n",
       "      <th>1</th>\n",
       "      <td>2</td>\n",
       "      <td>Jumanji (1995)</td>\n",
       "      <td>Adventure|Children|Fantasy</td>\n",
       "    </tr>\n",
       "    <tr>\n",
       "      <th>2</th>\n",
       "      <td>3</td>\n",
       "      <td>Grumpier Old Men (1995)</td>\n",
       "      <td>Comedy|Romance</td>\n",
       "    </tr>\n",
       "    <tr>\n",
       "      <th>3</th>\n",
       "      <td>4</td>\n",
       "      <td>Waiting to Exhale (1995)</td>\n",
       "      <td>Comedy|Drama|Romance</td>\n",
       "    </tr>\n",
       "    <tr>\n",
       "      <th>4</th>\n",
       "      <td>5</td>\n",
       "      <td>Father of the Bride Part II (1995)</td>\n",
       "      <td>Comedy</td>\n",
       "    </tr>\n",
       "  </tbody>\n",
       "</table>\n",
       "</div>"
      ],
      "text/plain": [
       "   movieId                               title  \\\n",
       "0        1                    Toy Story (1995)   \n",
       "1        2                      Jumanji (1995)   \n",
       "2        3             Grumpier Old Men (1995)   \n",
       "3        4            Waiting to Exhale (1995)   \n",
       "4        5  Father of the Bride Part II (1995)   \n",
       "\n",
       "                                        genres  \n",
       "0  Adventure|Animation|Children|Comedy|Fantasy  \n",
       "1                   Adventure|Children|Fantasy  \n",
       "2                               Comedy|Romance  \n",
       "3                         Comedy|Drama|Romance  \n",
       "4                                       Comedy  "
      ]
     },
     "execution_count": 38,
     "metadata": {},
     "output_type": "execute_result"
    }
   ],
   "source": [
    "df_filmes_todos.head()\n"
   ]
  },
  {
   "cell_type": "markdown",
   "metadata": {},
   "source": [
    "## Rename Columns"
   ]
  },
  {
   "cell_type": "code",
   "execution_count": 40,
   "metadata": {},
   "outputs": [],
   "source": [
    "df_filmes_todos.columns = ['filme_id','titulo','genero']"
   ]
  },
  {
   "cell_type": "markdown",
   "metadata": {},
   "source": [
    "## look for one"
   ]
  },
  {
   "cell_type": "code",
   "execution_count": 41,
   "metadata": {},
   "outputs": [
    {
     "data": {
      "text/html": [
       "<div>\n",
       "<style scoped>\n",
       "    .dataframe tbody tr th:only-of-type {\n",
       "        vertical-align: middle;\n",
       "    }\n",
       "\n",
       "    .dataframe tbody tr th {\n",
       "        vertical-align: top;\n",
       "    }\n",
       "\n",
       "    .dataframe thead th {\n",
       "        text-align: right;\n",
       "    }\n",
       "</style>\n",
       "<table border=\"1\" class=\"dataframe\">\n",
       "  <thead>\n",
       "    <tr style=\"text-align: right;\">\n",
       "      <th></th>\n",
       "      <th>filme_id</th>\n",
       "      <th>titulo</th>\n",
       "      <th>genero</th>\n",
       "    </tr>\n",
       "  </thead>\n",
       "  <tbody>\n",
       "    <tr>\n",
       "      <th>0</th>\n",
       "      <td>1</td>\n",
       "      <td>Toy Story (1995)</td>\n",
       "      <td>Adventure|Animation|Children|Comedy|Fantasy</td>\n",
       "    </tr>\n",
       "  </tbody>\n",
       "</table>\n",
       "</div>"
      ],
      "text/plain": [
       "   filme_id            titulo                                       genero\n",
       "0         1  Toy Story (1995)  Adventure|Animation|Children|Comedy|Fantasy"
      ]
     },
     "execution_count": 41,
     "metadata": {},
     "output_type": "execute_result"
    }
   ],
   "source": [
    "df_filmes_todos.query(\"filme_id == 1\")"
   ]
  },
  {
   "cell_type": "markdown",
   "metadata": {},
   "source": [
    "## One Column"
   ]
  },
  {
   "cell_type": "code",
   "execution_count": 43,
   "metadata": {},
   "outputs": [
    {
     "data": {
      "text/plain": [
       "0        4.0\n",
       "516      4.0\n",
       "874      4.5\n",
       "1434     2.5\n",
       "1667     4.5\n",
       "        ... \n",
       "97364    2.5\n",
       "98479    4.0\n",
       "98666    2.5\n",
       "99497    3.0\n",
       "99534    5.0\n",
       "Name: avaliacao, Length: 215, dtype: float64"
      ]
     },
     "execution_count": 43,
     "metadata": {},
     "output_type": "execute_result"
    }
   ],
   "source": [
    "df_filmes.query(\"filme_id == 1\").avaliacao"
   ]
  },
  {
   "cell_type": "markdown",
   "metadata": {},
   "source": [
    "## Average per film - Groupby <!--media por film-->"
   ]
  },
  {
   "cell_type": "markdown",
   "metadata": {},
   "source": [
    "## Grouping by movie and calculating the average all at once <!--Agrupando por filme e calculando a média de uma só vez-->"
   ]
  },
  {
   "cell_type": "code",
   "execution_count": 53,
   "metadata": {},
   "outputs": [],
   "source": [
    "medias_por_filme = df_filmes.groupby('filme_id').mean()['avaliacao']"
   ]
  },
  {
   "cell_type": "code",
   "execution_count": 54,
   "metadata": {},
   "outputs": [
    {
     "data": {
      "text/plain": [
       "filme_id\n",
       "1    3.920930\n",
       "2    3.431818\n",
       "3    3.259615\n",
       "4    2.357143\n",
       "5    3.071429\n",
       "Name: avaliacao, dtype: float64"
      ]
     },
     "execution_count": 54,
     "metadata": {},
     "output_type": "execute_result"
    }
   ],
   "source": [
    "medias_por_filme.head()"
   ]
  },
  {
   "cell_type": "markdown",
   "metadata": {},
   "source": [
    "## Graphic"
   ]
  },
  {
   "cell_type": "code",
   "execution_count": 57,
   "metadata": {},
   "outputs": [
    {
     "data": {
      "text/plain": [
       "<Axes: ylabel='Frequency'>"
      ]
     },
     "execution_count": 57,
     "metadata": {},
     "output_type": "execute_result"
    },
    {
     "data": {
      "image/png": "[encoded data removed]",
      "text/plain": [
       "<Figure size 640x480 with 1 Axes>"
      ]
     },
     "metadata": {},
     "output_type": "display_data"
    }
   ],
   "source": [
    "medias_por_filme.plot(kind='hist',color='red')"
   ]
  },
  {
   "cell_type": "code",
   "execution_count": 58,
   "metadata": {},
   "outputs": [
    {
     "data": {
      "text/plain": [
       "<Axes: xlabel='avaliacao'>"
      ]
     },
     "execution_count": 58,
     "metadata": {},
     "output_type": "execute_result"
    },
    {
     "data": {
      "image/png": "[encoded data removed]",
      "text/plain": [
       "<Figure size 640x480 with 1 Axes>"
      ]
     },
     "metadata": {},
     "output_type": "display_data"
    }
   ],
   "source": [
    "sns.boxplot(x=medias_por_filme)"
   ]
  },
  {
   "cell_type": "code",
   "execution_count": 61,
   "metadata": {},
   "outputs": [
    {
     "data": {
      "text/plain": [
       "count    9724.000000\n",
       "mean        3.262448\n",
       "std         0.869874\n",
       "min         0.500000\n",
       "25%         2.800000\n",
       "50%         3.416667\n",
       "75%         3.911765\n",
       "max         5.000000\n",
       "Name: avaliacao, dtype: float64"
      ]
     },
     "execution_count": 61,
     "metadata": {},
     "output_type": "execute_result"
    }
   ],
   "source": [
    "medias_por_filme.describe()"
   ]
  },
  {
   "cell_type": "code",
   "execution_count": 64,
   "metadata": {},
   "outputs": [
    {
     "data": {
      "text/plain": [
       "<Axes: xlabel='avaliacao', ylabel='Count'>"
      ]
     },
     "execution_count": 64,
     "metadata": {},
     "output_type": "execute_result"
    },
    {
     "data": {
      "image/png": "[encoded data removed]",
      "text/plain": [
       "<Figure size 640x480 with 1 Axes>"
      ]
     },
     "metadata": {},
     "output_type": "display_data"
    }
   ],
   "source": [
    "sns.histplot(medias_por_filme,kde=True,bins=10)"
   ]
  },
  {
   "cell_type": "markdown",
   "metadata": {},
   "source": [
    "## MatPlotLib"
   ]
  },
  {
   "cell_type": "code",
   "execution_count": 71,
   "metadata": {},
   "outputs": [
    {
     "data": {
      "text/plain": [
       "Text(0.5, 1.0, 'StoryTelling')"
      ]
     },
     "execution_count": 71,
     "metadata": {},
     "output_type": "execute_result"
    },
    {
     "data": {
      "image/png": "[encoded data removed]",
      "text/plain": [
       "<Figure size 640x480 with 1 Axes>"
      ]
     },
     "metadata": {},
     "output_type": "display_data"
    }
   ],
   "source": [
    "import matplotlib.pyplot as plt\n",
    "plt.hist(medias_por_filme)\n",
    "plt.title(\"StoryTelling\")"
   ]
  },
  {
   "cell_type": "code",
   "execution_count": 45,
   "metadata": {},
   "outputs": [],
   "source": [
    "import pandas as pd"
   ]
  },
  {
   "cell_type": "code",
   "execution_count": 48,
   "metadata": {},
   "outputs": [],
   "source": [
    "pesquisa = pd.read_csv('datasets/pesquisa.csv')"
   ]
  },
  {
   "cell_type": "code",
   "execution_count": 49,
   "metadata": {},
   "outputs": [
    {
     "data": {
      "text/html": [
       "<div>\n",
       "<style scoped>\n",
       "    .dataframe tbody tr th:only-of-type {\n",
       "        vertical-align: middle;\n",
       "    }\n",
       "\n",
       "    .dataframe tbody tr th {\n",
       "        vertical-align: top;\n",
       "    }\n",
       "\n",
       "    .dataframe thead th {\n",
       "        text-align: right;\n",
       "    }\n",
       "</style>\n",
       "<table border=\"1\" class=\"dataframe\">\n",
       "  <thead>\n",
       "    <tr style=\"text-align: right;\">\n",
       "      <th></th>\n",
       "      <th>Carimbo de data/hora</th>\n",
       "      <th>Endereço de e-mail</th>\n",
       "      <th>Pontuação</th>\n",
       "      <th>Responda qual a sua compreensão</th>\n",
       "      <th>Quais tópicos de estatística você acha mais desafiadores</th>\n",
       "      <th>Como você se sente em relação ao estudo de estatística</th>\n",
       "    </tr>\n",
       "  </thead>\n",
       "  <tbody>\n",
       "    <tr>\n",
       "      <th>0</th>\n",
       "      <td>20/08/2024 16:24:25</td>\n",
       "      <td>neutrin.fullstack@gmail.com</td>\n",
       "      <td>0 / 1</td>\n",
       "      <td>regular</td>\n",
       "      <td>população</td>\n",
       "      <td>entusiasmado</td>\n",
       "    </tr>\n",
       "    <tr>\n",
       "      <th>1</th>\n",
       "      <td>20/08/2024 17:00:24</td>\n",
       "      <td>henriqueserafin7@gmail.com</td>\n",
       "      <td>0 / 1</td>\n",
       "      <td>boa</td>\n",
       "      <td>quartis</td>\n",
       "      <td>entusiasmado</td>\n",
       "    </tr>\n",
       "    <tr>\n",
       "      <th>2</th>\n",
       "      <td>20/08/2024 17:00:26</td>\n",
       "      <td>jpguiotti@gmail.com</td>\n",
       "      <td>0 / 1</td>\n",
       "      <td>boa</td>\n",
       "      <td>população</td>\n",
       "      <td>tenho interesse</td>\n",
       "    </tr>\n",
       "    <tr>\n",
       "      <th>3</th>\n",
       "      <td>20/08/2024 17:01:02</td>\n",
       "      <td>thi.henriquemaia@gmail.com</td>\n",
       "      <td>0 / 1</td>\n",
       "      <td>regular</td>\n",
       "      <td>quartis</td>\n",
       "      <td>tenho interesse</td>\n",
       "    </tr>\n",
       "    <tr>\n",
       "      <th>4</th>\n",
       "      <td>20/08/2024 17:01:18</td>\n",
       "      <td>eulete.souza@df.estudante.senai.br</td>\n",
       "      <td>0 / 1</td>\n",
       "      <td>regular</td>\n",
       "      <td>quartis</td>\n",
       "      <td>entusiasmado</td>\n",
       "    </tr>\n",
       "    <tr>\n",
       "      <th>5</th>\n",
       "      <td>20/08/2024 17:01:57</td>\n",
       "      <td>fabriciotaveira176@gmail.com</td>\n",
       "      <td>0 / 1</td>\n",
       "      <td>ótima</td>\n",
       "      <td>quartis</td>\n",
       "      <td>tenho interesse</td>\n",
       "    </tr>\n",
       "    <tr>\n",
       "      <th>6</th>\n",
       "      <td>20/08/2024 17:02:00</td>\n",
       "      <td>dcguidosenai@gmail.com</td>\n",
       "      <td>0 / 1</td>\n",
       "      <td>boa</td>\n",
       "      <td>quartis</td>\n",
       "      <td>tenho interesse</td>\n",
       "    </tr>\n",
       "    <tr>\n",
       "      <th>7</th>\n",
       "      <td>20/08/2024 17:02:00</td>\n",
       "      <td>valleriam@gmail.com</td>\n",
       "      <td>0 / 1</td>\n",
       "      <td>regular</td>\n",
       "      <td>média</td>\n",
       "      <td>tenho interesse</td>\n",
       "    </tr>\n",
       "    <tr>\n",
       "      <th>8</th>\n",
       "      <td>20/08/2024 17:02:32</td>\n",
       "      <td>andrerodriguesfeitosa9@gmail.com</td>\n",
       "      <td>0 / 1</td>\n",
       "      <td>boa</td>\n",
       "      <td>amostra</td>\n",
       "      <td>tenho interesse</td>\n",
       "    </tr>\n",
       "    <tr>\n",
       "      <th>9</th>\n",
       "      <td>20/08/2024 17:02:51</td>\n",
       "      <td>engribeiro2017@gmail.com</td>\n",
       "      <td>0 / 1</td>\n",
       "      <td>ótima</td>\n",
       "      <td>população</td>\n",
       "      <td>entusiasmado</td>\n",
       "    </tr>\n",
       "    <tr>\n",
       "      <th>10</th>\n",
       "      <td>20/08/2024 17:02:53</td>\n",
       "      <td>jessicaportessantos@gmail.com</td>\n",
       "      <td>0 / 1</td>\n",
       "      <td>regular</td>\n",
       "      <td>quartis</td>\n",
       "      <td>tenho interesse</td>\n",
       "    </tr>\n",
       "    <tr>\n",
       "      <th>11</th>\n",
       "      <td>20/08/2024 17:02:56</td>\n",
       "      <td>julianarochaximenes@gmail.com</td>\n",
       "      <td>0 / 1</td>\n",
       "      <td>boa</td>\n",
       "      <td>quartis</td>\n",
       "      <td>ok</td>\n",
       "    </tr>\n",
       "    <tr>\n",
       "      <th>12</th>\n",
       "      <td>20/08/2024 17:03:32</td>\n",
       "      <td>escola.saga.caio@gmail.com</td>\n",
       "      <td>0 / 1</td>\n",
       "      <td>boa</td>\n",
       "      <td>quartis</td>\n",
       "      <td>ok</td>\n",
       "    </tr>\n",
       "    <tr>\n",
       "      <th>13</th>\n",
       "      <td>20/08/2024 17:04:13</td>\n",
       "      <td>lafaietepedro3@gmail.com</td>\n",
       "      <td>0 / 1</td>\n",
       "      <td>boa</td>\n",
       "      <td>quartis</td>\n",
       "      <td>ok</td>\n",
       "    </tr>\n",
       "    <tr>\n",
       "      <th>14</th>\n",
       "      <td>20/08/2024 17:05:14</td>\n",
       "      <td>palmeiravictor53@gmail.com</td>\n",
       "      <td>0 / 1</td>\n",
       "      <td>boa</td>\n",
       "      <td>média</td>\n",
       "      <td>entusiasmado</td>\n",
       "    </tr>\n",
       "    <tr>\n",
       "      <th>15</th>\n",
       "      <td>20/08/2024 17:10:31</td>\n",
       "      <td>pjeronimo842@gmail.com</td>\n",
       "      <td>0 / 1</td>\n",
       "      <td>regular</td>\n",
       "      <td>média</td>\n",
       "      <td>tenho interesse</td>\n",
       "    </tr>\n",
       "    <tr>\n",
       "      <th>16</th>\n",
       "      <td>20/08/2024 17:11:37</td>\n",
       "      <td>leandrosousajesus@gmail.com</td>\n",
       "      <td>0 / 1</td>\n",
       "      <td>boa</td>\n",
       "      <td>população</td>\n",
       "      <td>entusiasmado</td>\n",
       "    </tr>\n",
       "  </tbody>\n",
       "</table>\n",
       "</div>"
      ],
      "text/plain": [
       "   Carimbo de data/hora                  Endereço de e-mail Pontuação  \\\n",
       "0   20/08/2024 16:24:25         neutrin.fullstack@gmail.com     0 / 1   \n",
       "1   20/08/2024 17:00:24          henriqueserafin7@gmail.com     0 / 1   \n",
       "2   20/08/2024 17:00:26                 jpguiotti@gmail.com     0 / 1   \n",
       "3   20/08/2024 17:01:02          thi.henriquemaia@gmail.com     0 / 1   \n",
       "4   20/08/2024 17:01:18  eulete.souza@df.estudante.senai.br     0 / 1   \n",
       "5   20/08/2024 17:01:57        fabriciotaveira176@gmail.com     0 / 1   \n",
       "6   20/08/2024 17:02:00              dcguidosenai@gmail.com     0 / 1   \n",
       "7   20/08/2024 17:02:00                 valleriam@gmail.com     0 / 1   \n",
       "8   20/08/2024 17:02:32    andrerodriguesfeitosa9@gmail.com     0 / 1   \n",
       "9   20/08/2024 17:02:51            engribeiro2017@gmail.com     0 / 1   \n",
       "10  20/08/2024 17:02:53       jessicaportessantos@gmail.com     0 / 1   \n",
       "11  20/08/2024 17:02:56       julianarochaximenes@gmail.com     0 / 1   \n",
       "12  20/08/2024 17:03:32          escola.saga.caio@gmail.com     0 / 1   \n",
       "13  20/08/2024 17:04:13            lafaietepedro3@gmail.com     0 / 1   \n",
       "14  20/08/2024 17:05:14          palmeiravictor53@gmail.com     0 / 1   \n",
       "15  20/08/2024 17:10:31              pjeronimo842@gmail.com     0 / 1   \n",
       "16  20/08/2024 17:11:37         leandrosousajesus@gmail.com     0 / 1   \n",
       "\n",
       "   Responda qual a sua compreensão  \\\n",
       "0                          regular   \n",
       "1                              boa   \n",
       "2                              boa   \n",
       "3                          regular   \n",
       "4                          regular   \n",
       "5                            ótima   \n",
       "6                              boa   \n",
       "7                          regular   \n",
       "8                              boa   \n",
       "9                            ótima   \n",
       "10                         regular   \n",
       "11                             boa   \n",
       "12                             boa   \n",
       "13                             boa   \n",
       "14                             boa   \n",
       "15                         regular   \n",
       "16                             boa   \n",
       "\n",
       "   Quais tópicos de estatística você acha mais desafiadores  \\\n",
       "0                                           população         \n",
       "1                                             quartis         \n",
       "2                                           população         \n",
       "3                                             quartis         \n",
       "4                                             quartis         \n",
       "5                                             quartis         \n",
       "6                                             quartis         \n",
       "7                                               média         \n",
       "8                                             amostra         \n",
       "9                                           população         \n",
       "10                                            quartis         \n",
       "11                                            quartis         \n",
       "12                                            quartis         \n",
       "13                                            quartis         \n",
       "14                                              média         \n",
       "15                                              média         \n",
       "16                                          população         \n",
       "\n",
       "   Como você se sente em relação ao estudo de estatística  \n",
       "0                                        entusiasmado      \n",
       "1                                        entusiasmado      \n",
       "2                                     tenho interesse      \n",
       "3                                     tenho interesse      \n",
       "4                                        entusiasmado      \n",
       "5                                     tenho interesse      \n",
       "6                                     tenho interesse      \n",
       "7                                     tenho interesse      \n",
       "8                                     tenho interesse      \n",
       "9                                        entusiasmado      \n",
       "10                                    tenho interesse      \n",
       "11                                                 ok      \n",
       "12                                                 ok      \n",
       "13                                                 ok      \n",
       "14                                       entusiasmado      \n",
       "15                                    tenho interesse      \n",
       "16                                       entusiasmado      "
      ]
     },
     "execution_count": 49,
     "metadata": {},
     "output_type": "execute_result"
    }
   ],
   "source": [
    "pesquisa.head(25)"
   ]
  },
  {
   "cell_type": "markdown",
   "metadata": {},
   "source": [
    "## Rename columns"
   ]
  },
  {
   "cell_type": "code",
   "execution_count": 51,
   "metadata": {},
   "outputs": [],
   "source": [
    "pesquisa.columns = ['data_hora','email','pontuação','compreensao','desafiador','sentimento']"
   ]
  },
  {
   "cell_type": "code",
   "execution_count": 52,
   "metadata": {},
   "outputs": [
    {
     "data": {
      "text/html": [
       "<div>\n",
       "<style scoped>\n",
       "    .dataframe tbody tr th:only-of-type {\n",
       "        vertical-align: middle;\n",
       "    }\n",
       "\n",
       "    .dataframe tbody tr th {\n",
       "        vertical-align: top;\n",
       "    }\n",
       "\n",
       "    .dataframe thead th {\n",
       "        text-align: right;\n",
       "    }\n",
       "</style>\n",
       "<table border=\"1\" class=\"dataframe\">\n",
       "  <thead>\n",
       "    <tr style=\"text-align: right;\">\n",
       "      <th></th>\n",
       "      <th>data_hora</th>\n",
       "      <th>email</th>\n",
       "      <th>pontuação</th>\n",
       "      <th>compreensao</th>\n",
       "      <th>desafiador</th>\n",
       "      <th>sentimento</th>\n",
       "    </tr>\n",
       "  </thead>\n",
       "  <tbody>\n",
       "    <tr>\n",
       "      <th>0</th>\n",
       "      <td>20/08/2024 16:24:25</td>\n",
       "      <td>neutrin.fullstack@gmail.com</td>\n",
       "      <td>0 / 1</td>\n",
       "      <td>regular</td>\n",
       "      <td>população</td>\n",
       "      <td>entusiasmado</td>\n",
       "    </tr>\n",
       "    <tr>\n",
       "      <th>1</th>\n",
       "      <td>20/08/2024 17:00:24</td>\n",
       "      <td>henriqueserafin7@gmail.com</td>\n",
       "      <td>0 / 1</td>\n",
       "      <td>boa</td>\n",
       "      <td>quartis</td>\n",
       "      <td>entusiasmado</td>\n",
       "    </tr>\n",
       "    <tr>\n",
       "      <th>2</th>\n",
       "      <td>20/08/2024 17:00:26</td>\n",
       "      <td>jpguiotti@gmail.com</td>\n",
       "      <td>0 / 1</td>\n",
       "      <td>boa</td>\n",
       "      <td>população</td>\n",
       "      <td>tenho interesse</td>\n",
       "    </tr>\n",
       "    <tr>\n",
       "      <th>3</th>\n",
       "      <td>20/08/2024 17:01:02</td>\n",
       "      <td>thi.henriquemaia@gmail.com</td>\n",
       "      <td>0 / 1</td>\n",
       "      <td>regular</td>\n",
       "      <td>quartis</td>\n",
       "      <td>tenho interesse</td>\n",
       "    </tr>\n",
       "    <tr>\n",
       "      <th>4</th>\n",
       "      <td>20/08/2024 17:01:18</td>\n",
       "      <td>eulete.souza@df.estudante.senai.br</td>\n",
       "      <td>0 / 1</td>\n",
       "      <td>regular</td>\n",
       "      <td>quartis</td>\n",
       "      <td>entusiasmado</td>\n",
       "    </tr>\n",
       "    <tr>\n",
       "      <th>5</th>\n",
       "      <td>20/08/2024 17:01:57</td>\n",
       "      <td>fabriciotaveira176@gmail.com</td>\n",
       "      <td>0 / 1</td>\n",
       "      <td>ótima</td>\n",
       "      <td>quartis</td>\n",
       "      <td>tenho interesse</td>\n",
       "    </tr>\n",
       "    <tr>\n",
       "      <th>6</th>\n",
       "      <td>20/08/2024 17:02:00</td>\n",
       "      <td>dcguidosenai@gmail.com</td>\n",
       "      <td>0 / 1</td>\n",
       "      <td>boa</td>\n",
       "      <td>quartis</td>\n",
       "      <td>tenho interesse</td>\n",
       "    </tr>\n",
       "    <tr>\n",
       "      <th>7</th>\n",
       "      <td>20/08/2024 17:02:00</td>\n",
       "      <td>valleriam@gmail.com</td>\n",
       "      <td>0 / 1</td>\n",
       "      <td>regular</td>\n",
       "      <td>média</td>\n",
       "      <td>tenho interesse</td>\n",
       "    </tr>\n",
       "    <tr>\n",
       "      <th>8</th>\n",
       "      <td>20/08/2024 17:02:32</td>\n",
       "      <td>andrerodriguesfeitosa9@gmail.com</td>\n",
       "      <td>0 / 1</td>\n",
       "      <td>boa</td>\n",
       "      <td>amostra</td>\n",
       "      <td>tenho interesse</td>\n",
       "    </tr>\n",
       "    <tr>\n",
       "      <th>9</th>\n",
       "      <td>20/08/2024 17:02:51</td>\n",
       "      <td>engribeiro2017@gmail.com</td>\n",
       "      <td>0 / 1</td>\n",
       "      <td>ótima</td>\n",
       "      <td>população</td>\n",
       "      <td>entusiasmado</td>\n",
       "    </tr>\n",
       "    <tr>\n",
       "      <th>10</th>\n",
       "      <td>20/08/2024 17:02:53</td>\n",
       "      <td>jessicaportessantos@gmail.com</td>\n",
       "      <td>0 / 1</td>\n",
       "      <td>regular</td>\n",
       "      <td>quartis</td>\n",
       "      <td>tenho interesse</td>\n",
       "    </tr>\n",
       "    <tr>\n",
       "      <th>11</th>\n",
       "      <td>20/08/2024 17:02:56</td>\n",
       "      <td>julianarochaximenes@gmail.com</td>\n",
       "      <td>0 / 1</td>\n",
       "      <td>boa</td>\n",
       "      <td>quartis</td>\n",
       "      <td>ok</td>\n",
       "    </tr>\n",
       "    <tr>\n",
       "      <th>12</th>\n",
       "      <td>20/08/2024 17:03:32</td>\n",
       "      <td>escola.saga.caio@gmail.com</td>\n",
       "      <td>0 / 1</td>\n",
       "      <td>boa</td>\n",
       "      <td>quartis</td>\n",
       "      <td>ok</td>\n",
       "    </tr>\n",
       "    <tr>\n",
       "      <th>13</th>\n",
       "      <td>20/08/2024 17:04:13</td>\n",
       "      <td>lafaietepedro3@gmail.com</td>\n",
       "      <td>0 / 1</td>\n",
       "      <td>boa</td>\n",
       "      <td>quartis</td>\n",
       "      <td>ok</td>\n",
       "    </tr>\n",
       "    <tr>\n",
       "      <th>14</th>\n",
       "      <td>20/08/2024 17:05:14</td>\n",
       "      <td>palmeiravictor53@gmail.com</td>\n",
       "      <td>0 / 1</td>\n",
       "      <td>boa</td>\n",
       "      <td>média</td>\n",
       "      <td>entusiasmado</td>\n",
       "    </tr>\n",
       "    <tr>\n",
       "      <th>15</th>\n",
       "      <td>20/08/2024 17:10:31</td>\n",
       "      <td>pjeronimo842@gmail.com</td>\n",
       "      <td>0 / 1</td>\n",
       "      <td>regular</td>\n",
       "      <td>média</td>\n",
       "      <td>tenho interesse</td>\n",
       "    </tr>\n",
       "    <tr>\n",
       "      <th>16</th>\n",
       "      <td>20/08/2024 17:11:37</td>\n",
       "      <td>leandrosousajesus@gmail.com</td>\n",
       "      <td>0 / 1</td>\n",
       "      <td>boa</td>\n",
       "      <td>população</td>\n",
       "      <td>entusiasmado</td>\n",
       "    </tr>\n",
       "  </tbody>\n",
       "</table>\n",
       "</div>"
      ],
      "text/plain": [
       "              data_hora                               email pontuação  \\\n",
       "0   20/08/2024 16:24:25         neutrin.fullstack@gmail.com     0 / 1   \n",
       "1   20/08/2024 17:00:24          henriqueserafin7@gmail.com     0 / 1   \n",
       "2   20/08/2024 17:00:26                 jpguiotti@gmail.com     0 / 1   \n",
       "3   20/08/2024 17:01:02          thi.henriquemaia@gmail.com     0 / 1   \n",
       "4   20/08/2024 17:01:18  eulete.souza@df.estudante.senai.br     0 / 1   \n",
       "5   20/08/2024 17:01:57        fabriciotaveira176@gmail.com     0 / 1   \n",
       "6   20/08/2024 17:02:00              dcguidosenai@gmail.com     0 / 1   \n",
       "7   20/08/2024 17:02:00                 valleriam@gmail.com     0 / 1   \n",
       "8   20/08/2024 17:02:32    andrerodriguesfeitosa9@gmail.com     0 / 1   \n",
       "9   20/08/2024 17:02:51            engribeiro2017@gmail.com     0 / 1   \n",
       "10  20/08/2024 17:02:53       jessicaportessantos@gmail.com     0 / 1   \n",
       "11  20/08/2024 17:02:56       julianarochaximenes@gmail.com     0 / 1   \n",
       "12  20/08/2024 17:03:32          escola.saga.caio@gmail.com     0 / 1   \n",
       "13  20/08/2024 17:04:13            lafaietepedro3@gmail.com     0 / 1   \n",
       "14  20/08/2024 17:05:14          palmeiravictor53@gmail.com     0 / 1   \n",
       "15  20/08/2024 17:10:31              pjeronimo842@gmail.com     0 / 1   \n",
       "16  20/08/2024 17:11:37         leandrosousajesus@gmail.com     0 / 1   \n",
       "\n",
       "   compreensao desafiador       sentimento  \n",
       "0      regular  população     entusiasmado  \n",
       "1          boa    quartis     entusiasmado  \n",
       "2          boa  população  tenho interesse  \n",
       "3      regular    quartis  tenho interesse  \n",
       "4      regular    quartis     entusiasmado  \n",
       "5        ótima    quartis  tenho interesse  \n",
       "6          boa    quartis  tenho interesse  \n",
       "7      regular      média  tenho interesse  \n",
       "8          boa    amostra  tenho interesse  \n",
       "9        ótima  população     entusiasmado  \n",
       "10     regular    quartis  tenho interesse  \n",
       "11         boa    quartis               ok  \n",
       "12         boa    quartis               ok  \n",
       "13         boa    quartis               ok  \n",
       "14         boa      média     entusiasmado  \n",
       "15     regular      média  tenho interesse  \n",
       "16         boa  população     entusiasmado  "
      ]
     },
     "execution_count": 52,
     "metadata": {},
     "output_type": "execute_result"
    }
   ],
   "source": [
    "pesquisa.head(17)"
   ]
  },
  {
   "cell_type": "code",
   "execution_count": 76,
   "metadata": {},
   "outputs": [
    {
     "data": {
      "text/plain": [
       "<Axes: xlabel='sentimento', ylabel='porcentagem'>"
      ]
     },
     "execution_count": 76,
     "metadata": {},
     "output_type": "execute_result"
    },
    {
     "data": {
      "image/png": "[encoded data removed]",
      "text/plain": [
       "<Figure size 640x480 with 1 Axes>"
      ]
     },
     "metadata": {},
     "output_type": "display_data"
    }
   ],
   "source": [
    "# Criar o DataFrame com a contagem de cada sentimento\n",
    "df = pesquisa['sentimento'].value_counts(normalize=True).reset_index()\n",
    "df.columns = ['sentimento', 'porcentagem']\n",
    "\n",
    "# Criar o gráfico de barras\n",
    "ax = sns.barplot(x='sentimento', y='porcentagem', data=df)\n",
    "\n",
    "# Adicionar as porcentagens nas barras\n",
    "ax.bar_label(ax.containers[0], fmt='%.2f%%')\n",
    "\n",
    "# Mostrar o gráfico\n",
    "sns.boxplot()\n"
   ]
  }
 ],
 "metadata": {
  "kernelspec": {
   "display_name": ".venv",
   "language": "python",
   "name": "python3"
  },
  "language_info": {
   "codemirror_mode": {
    "name": "ipython",
    "version": 3
   },
   "file_extension": ".py",
   "mimetype": "text/x-python",
   "name": "python",
   "nbconvert_exporter": "python",
   "pygments_lexer": "ipython3",
   "version": "3.12.5"
  }
 },
 "nbformat": 4,
 "nbformat_minor": 2
}
